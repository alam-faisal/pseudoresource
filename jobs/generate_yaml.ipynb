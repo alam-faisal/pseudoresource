{
 "cells": [
  {
   "cell_type": "code",
   "execution_count": 19,
   "id": "7c213c12",
   "metadata": {},
   "outputs": [
    {
     "name": "stdout",
     "output_type": "stream",
     "text": [
      "YAML file 'job4_22_11.yml' created with 11 experiments.\n"
     ]
    }
   ],
   "source": [
    "import yaml\n",
    "from itertools import product\n",
    "import numpy as np\n",
    "\n",
    "yaml_filename = \"job4_22_11.yml\"\n",
    "chi_list = [16]\n",
    "n_list = np.arange(28,50,2)\n",
    "run_type = \"periodic\"\n",
    "\n",
    "param = 1.0\n",
    "resume = False\n",
    "\n",
    "param_grid = list(product(n_list, chi_list))\n",
    "experiments = [\n",
    "    {\n",
    "        \"num_sites\": int(n),\n",
    "        \"chi\": int(chi),\n",
    "        \"run_type\": run_type\n",
    "    }\n",
    "    for n, chi in param_grid\n",
    "]\n",
    "\n",
    "yaml_data = {\n",
    "    \"param\": param,\n",
    "    \"resume\": resume,\n",
    "    \"experiments\": experiments\n",
    "}\n",
    "\n",
    "with open(yaml_filename, \"w\") as f:\n",
    "    yaml.dump(yaml_data, f)\n",
    "\n",
    "print(f\"YAML file '{yaml_filename}' created with {len(experiments)} experiments.\")\n"
   ]
  },
  {
   "cell_type": "code",
   "execution_count": null,
   "id": "0bb2938a",
   "metadata": {},
   "outputs": [],
   "source": []
  },
  {
   "cell_type": "code",
   "execution_count": null,
   "id": "82a56ce6",
   "metadata": {},
   "outputs": [],
   "source": []
  }
 ],
 "metadata": {
  "kernelspec": {
   "display_name": "qaravan",
   "language": "python",
   "name": "python3"
  },
  "language_info": {
   "codemirror_mode": {
    "name": "ipython",
    "version": 3
   },
   "file_extension": ".py",
   "mimetype": "text/x-python",
   "name": "python",
   "nbconvert_exporter": "python",
   "pygments_lexer": "ipython3",
   "version": "3.11.0"
  }
 },
 "nbformat": 4,
 "nbformat_minor": 5
}
